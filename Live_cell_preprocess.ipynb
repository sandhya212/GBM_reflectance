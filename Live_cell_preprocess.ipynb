{
 "cells": [
  {
   "cell_type": "markdown",
   "id": "42c41023-fa05-4f26-b3a5-ad8a9693f734",
   "metadata": {},
   "source": [
    "## om live cell \n",
    "### 30th dec 2022\n",
    "### 3rd Jan 2023 - rds - was not needed...dint not work anyway\n",
    "### 7th Jan 2023 - third take on the data \n",
    "### 13th Jan 2023 - plotting just the tSNE"
   ]
  },
  {
   "cell_type": "code",
   "execution_count": 113,
   "id": "9c207949-2de2-4c88-a508-1572c5ec68a2",
   "metadata": {},
   "outputs": [],
   "source": [
    "import numpy as np\n",
    "import pandas as pd\n",
    "import scipy.integrate\n",
    "import math\n",
    "import matplotlib.pyplot as plt\n",
    "import seaborn as sns\n",
    "%matplotlib inline\n",
    "from matplotlib import animation, rc\n",
    "from IPython.display import HTML\n",
    "import time\n",
    "import multiprocessing as mp\n",
    "import os\n",
    "\n",
    "from scipy.stats import zscore\n",
    "\n",
    "from sklearn.manifold import TSNE\n",
    "from sklearn.mixture import BayesianGaussianMixture\n",
    "\n",
    "import phenograph as pg\n",
    "import random"
   ]
  },
  {
   "cell_type": "code",
   "execution_count": 2,
   "id": "3ad823e2-128c-45eb-a2ee-8d0cc5bdbc27",
   "metadata": {},
   "outputs": [
    {
     "name": "stdout",
     "output_type": "stream",
     "text": [
      "Requirement already satisfied: pyreadr in /opt/anaconda3/lib/python3.7/site-packages (0.4.6)\n",
      "Requirement already satisfied: pandas>=1.2.0 in /opt/anaconda3/lib/python3.7/site-packages (from pyreadr) (1.3.5)\n",
      "Requirement already satisfied: pytz>=2017.3 in /opt/anaconda3/lib/python3.7/site-packages (from pandas>=1.2.0->pyreadr) (2022.1)\n",
      "Requirement already satisfied: numpy>=1.17.3 in /opt/anaconda3/lib/python3.7/site-packages (from pandas>=1.2.0->pyreadr) (1.21.6)\n",
      "Requirement already satisfied: python-dateutil>=2.7.3 in /opt/anaconda3/lib/python3.7/site-packages (from pandas>=1.2.0->pyreadr) (2.8.2)\n",
      "Requirement already satisfied: six>=1.5 in /opt/anaconda3/lib/python3.7/site-packages (from python-dateutil>=2.7.3->pandas>=1.2.0->pyreadr) (1.16.0)\n",
      "\n",
      "\u001b[1m[\u001b[0m\u001b[34;49mnotice\u001b[0m\u001b[1;39;49m]\u001b[0m\u001b[39;49m A new release of pip available: \u001b[0m\u001b[31;49m22.3\u001b[0m\u001b[39;49m -> \u001b[0m\u001b[32;49m22.3.1\u001b[0m\n",
      "\u001b[1m[\u001b[0m\u001b[34;49mnotice\u001b[0m\u001b[1;39;49m]\u001b[0m\u001b[39;49m To update, run: \u001b[0m\u001b[32;49mpip install --upgrade pip\u001b[0m\n"
     ]
    }
   ],
   "source": [
    "#!pip install pyreadr\n",
    "import pyreadr"
   ]
  },
  {
   "cell_type": "code",
   "execution_count": 140,
   "id": "0d0c8602-cae0-4ff4-b666-a23b9264e71f",
   "metadata": {},
   "outputs": [],
   "source": [
    "path_data = 'NCI-N87_3D_forMistic/FoFX002005_221018_brightfield/FoF7002005_221018_brightfield/' # FoFX001003_221018_brightfield/FoF7001003_221018_brightfield/' #'Archive/FoF7002005_221018_brightfield/'"
   ]
  },
  {
   "cell_type": "code",
   "execution_count": 142,
   "id": "4629d200-d008-42ee-9c42-1925fe6a5d55",
   "metadata": {},
   "outputs": [
    {
     "name": "stdout",
     "output_type": "stream",
     "text": [
      "cell_10.png\n",
      "cell_102.png\n",
      "cell_103.png\n",
      "cell_106.png\n",
      "cell_107.png\n",
      "cell_108.png\n",
      "cell_110.png\n",
      "cell_111.png\n",
      "cell_112.png\n",
      "cell_116.png\n",
      "cell_118.png\n",
      "cell_119.png\n",
      "cell_12.png\n",
      "cell_120.png\n",
      "cell_121.png\n",
      "cell_122.png\n",
      "cell_126.png\n",
      "cell_127.png\n",
      "cell_128.png\n",
      "cell_135.png\n",
      "cell_137.png\n",
      "cell_14.png\n",
      "cell_141.png\n",
      "cell_15.png\n",
      "cell_17.png\n",
      "cell_20.png\n",
      "cell_23.png\n",
      "cell_24.png\n",
      "cell_26.png\n",
      "cell_27.png\n",
      "cell_28.png\n",
      "cell_30.png\n",
      "cell_31.png\n",
      "cell_35.png\n",
      "cell_38.png\n",
      "cell_39.png\n",
      "cell_4.png\n",
      "cell_40.png\n",
      "cell_44.png\n",
      "cell_45.png\n",
      "cell_47.png\n",
      "cell_48.png\n",
      "cell_52.png\n",
      "cell_55.png\n",
      "cell_56.png\n",
      "cell_57.png\n",
      "cell_58.png\n",
      "cell_59.png\n",
      "cell_61.png\n",
      "cell_62.png\n",
      "cell_63.png\n",
      "cell_64.png\n",
      "cell_65.png\n",
      "cell_66.png\n",
      "cell_67.png\n",
      "cell_68.png\n",
      "cell_69.png\n",
      "cell_7.png\n",
      "cell_70.png\n",
      "cell_71.png\n",
      "cell_76.png\n",
      "cell_77.png\n",
      "cell_78.png\n",
      "cell_79.png\n",
      "cell_80.png\n",
      "cell_82.png\n",
      "cell_83.png\n",
      "cell_84.png\n",
      "cell_85.png\n",
      "cell_86.png\n",
      "cell_88.png\n",
      "cell_89.png\n",
      "cell_91.png\n",
      "cell_92.png\n",
      "cell_93.png\n",
      "cell_95.png\n",
      "cell_96.png\n",
      "cell_97.png\n",
      "cell_98.png\n",
      "cell_99.png\n"
     ]
    }
   ],
   "source": [
    "\n",
    "line =7000\n",
    "for fname in sorted(os.listdir(path_data)):  \n",
    "    print(fname)\n",
    "    lc = np.int32(str.split(str.split(fname,\"_\")[1],'.')[0])\n",
    "    #print('reading in FOV '+ str(count))\n",
    "    os.rename(path_data+fname, path_data+str(line+lc)+'.png')\n",
    "    \n",
    "    "
   ]
  },
  {
   "cell_type": "code",
   "execution_count": 16,
   "id": "e309970e-80d8-430a-9faf-201bc2431d88",
   "metadata": {},
   "outputs": [
    {
     "data": {
      "text/plain": [
       "9"
      ]
     },
     "execution_count": 16,
     "metadata": {},
     "output_type": "execute_result"
    }
   ],
   "source": [
    "\n"
   ]
  },
  {
   "cell_type": "code",
   "execution_count": null,
   "id": "989b4aea-c356-4034-823f-3fc023262668",
   "metadata": {},
   "outputs": [],
   "source": [
    "count_matrix =  np.array(pd.read_csv('output/count_data.csv', header=None,index_col=None)) #\n",
    "#count_matrix_gene =  np.array(pd.read_csv('Slide5_exprMat_file.csv', header=None,index_col=None)) #\n",
    "\n",
    "#count_matrix =  np.array(pd.read_csv('Slide4_exprMat_file.csv', header=None,index_col=None)) #\n",
    "#count_matrix =  np.array(pd.read_csv('Slide3_exprMat_file.csv', header=None,index_col=None)) #\n",
    "#count_matrix =  np.array(pd.read_csv('Slide2_exprMat_file.csv', header=None,index_col=None)) #\n",
    "#count_matrix =  np.array(pd.read_csv('Slide1_exprMat_file.csv', header=None,index_col=None)) #"
   ]
  },
  {
   "cell_type": "markdown",
   "id": "3cfe3063-3451-4835-98ea-5c01c17360fe",
   "metadata": {},
   "source": [
    "#### rds file check"
   ]
  },
  {
   "cell_type": "code",
   "execution_count": 4,
   "id": "5a3bc0be-02f1-4a8d-8145-ddd6e6c91de1",
   "metadata": {},
   "outputs": [
    {
     "ename": "LibrdataError",
     "evalue": "Invalid file, or file has unsupported features",
     "output_type": "error",
     "traceback": [
      "\u001b[0;31m---------------------------------------------------------------------------\u001b[0m",
      "\u001b[0;31mLibrdataError\u001b[0m                             Traceback (most recent call last)",
      "\u001b[0;32m/var/folders/0q/x4j93sjs6mx6sl32x798tmt8001p75/T/ipykernel_63083/2496130257.py\u001b[0m in \u001b[0;36m<module>\u001b[0;34m\u001b[0m\n\u001b[0;32m----> 1\u001b[0;31m \u001b[0mresult\u001b[0m \u001b[0;34m=\u001b[0m \u001b[0mpyreadr\u001b[0m\u001b[0;34m.\u001b[0m\u001b[0mread_r\u001b[0m\u001b[0;34m(\u001b[0m\u001b[0;34m'Archive/FoF1002005_221018_brightfield/nucleus_87.rds'\u001b[0m\u001b[0;34m)\u001b[0m \u001b[0;31m#\u001b[0m\u001b[0;34m\u001b[0m\u001b[0;34m\u001b[0m\u001b[0m\n\u001b[0m",
      "\u001b[0;32m/opt/anaconda3/lib/python3.7/site-packages/pyreadr/pyreadr.py\u001b[0m in \u001b[0;36mread_r\u001b[0;34m(path, use_objects, timezone)\u001b[0m\n\u001b[1;32m     64\u001b[0m     \u001b[0;32mif\u001b[0m \u001b[0;32mnot\u001b[0m \u001b[0mos\u001b[0m\u001b[0;34m.\u001b[0m\u001b[0mpath\u001b[0m\u001b[0;34m.\u001b[0m\u001b[0misfile\u001b[0m\u001b[0;34m(\u001b[0m\u001b[0mfilename_bytes\u001b[0m\u001b[0;34m)\u001b[0m\u001b[0;34m:\u001b[0m\u001b[0;34m\u001b[0m\u001b[0;34m\u001b[0m\u001b[0m\n\u001b[1;32m     65\u001b[0m         \u001b[0;32mraise\u001b[0m \u001b[0mPyreadrError\u001b[0m\u001b[0;34m(\u001b[0m\u001b[0;34m\"File {0} does not exist!\"\u001b[0m\u001b[0;34m.\u001b[0m\u001b[0mformat\u001b[0m\u001b[0;34m(\u001b[0m\u001b[0mfilename_bytes\u001b[0m\u001b[0;34m)\u001b[0m\u001b[0;34m)\u001b[0m\u001b[0;34m\u001b[0m\u001b[0;34m\u001b[0m\u001b[0m\n\u001b[0;32m---> 66\u001b[0;31m     \u001b[0mparser\u001b[0m\u001b[0;34m.\u001b[0m\u001b[0mparse\u001b[0m\u001b[0;34m(\u001b[0m\u001b[0mfilename_bytes\u001b[0m\u001b[0;34m)\u001b[0m\u001b[0;34m\u001b[0m\u001b[0;34m\u001b[0m\u001b[0m\n\u001b[0m\u001b[1;32m     67\u001b[0m \u001b[0;34m\u001b[0m\u001b[0m\n\u001b[1;32m     68\u001b[0m     \u001b[0mresult\u001b[0m \u001b[0;34m=\u001b[0m \u001b[0mOrderedDict\u001b[0m\u001b[0;34m(\u001b[0m\u001b[0;34m)\u001b[0m\u001b[0;34m\u001b[0m\u001b[0;34m\u001b[0m\u001b[0m\n",
      "\u001b[0;32m/opt/anaconda3/lib/python3.7/site-packages/pyreadr/librdata.pyx\u001b[0m in \u001b[0;36mpyreadr.librdata.Parser.parse\u001b[0;34m()\u001b[0m\n",
      "\u001b[0;32m/opt/anaconda3/lib/python3.7/site-packages/pyreadr/librdata.pyx\u001b[0m in \u001b[0;36mpyreadr.librdata.Parser.parse\u001b[0;34m()\u001b[0m\n",
      "\u001b[0;31mLibrdataError\u001b[0m: Invalid file, or file has unsupported features"
     ]
    }
   ],
   "source": [
    "result = pyreadr.read_r('Archive/FoF1002005_221018_brightfield/nucleus_87.rds') # "
   ]
  },
  {
   "cell_type": "code",
   "execution_count": 7,
   "id": "150d70e1-c3e9-485e-b29a-67f57bc123db",
   "metadata": {},
   "outputs": [
    {
     "name": "stdout",
     "output_type": "stream",
     "text": [
      "Requirement already satisfied: rpy2 in /opt/anaconda3/lib/python3.7/site-packages (3.4.5)\n",
      "Requirement already satisfied: jinja2 in /opt/anaconda3/lib/python3.7/site-packages (from rpy2) (3.1.2)\n",
      "Requirement already satisfied: tzlocal in /opt/anaconda3/lib/python3.7/site-packages (from rpy2) (4.1)\n",
      "Requirement already satisfied: pytz in /opt/anaconda3/lib/python3.7/site-packages (from rpy2) (2022.1)\n",
      "Requirement already satisfied: cffi>=1.10.0 in /opt/anaconda3/lib/python3.7/site-packages (from rpy2) (1.15.0)\n",
      "Requirement already satisfied: pycparser in /opt/anaconda3/lib/python3.7/site-packages (from cffi>=1.10.0->rpy2) (2.21)\n",
      "Requirement already satisfied: MarkupSafe>=2.0 in /opt/anaconda3/lib/python3.7/site-packages (from jinja2->rpy2) (2.1.1)\n",
      "Requirement already satisfied: pytz-deprecation-shim in /opt/anaconda3/lib/python3.7/site-packages (from tzlocal->rpy2) (0.1.0.post0)\n",
      "Requirement already satisfied: backports.zoneinfo in /opt/anaconda3/lib/python3.7/site-packages (from tzlocal->rpy2) (0.2.1)\n",
      "Requirement already satisfied: tzdata in /opt/anaconda3/lib/python3.7/site-packages (from pytz-deprecation-shim->tzlocal->rpy2) (2021.5)\n",
      "\n",
      "\u001b[1m[\u001b[0m\u001b[34;49mnotice\u001b[0m\u001b[1;39;49m]\u001b[0m\u001b[39;49m A new release of pip available: \u001b[0m\u001b[31;49m22.3\u001b[0m\u001b[39;49m -> \u001b[0m\u001b[32;49m22.3.1\u001b[0m\n",
      "\u001b[1m[\u001b[0m\u001b[34;49mnotice\u001b[0m\u001b[1;39;49m]\u001b[0m\u001b[39;49m To update, run: \u001b[0m\u001b[32;49mpip install --upgrade pip\u001b[0m\n",
      "Note: you may need to restart the kernel to use updated packages.\n"
     ]
    }
   ],
   "source": [
    "pip install rpy2"
   ]
  },
  {
   "cell_type": "code",
   "execution_count": 1,
   "id": "cae9c9f9-ed10-4010-a36f-b9a1c4decafe",
   "metadata": {},
   "outputs": [
    {
     "ename": "ImportError",
     "evalue": "dlopen(/opt/anaconda3/lib/python3.7/site-packages/_cffi_backend.cpython-37m-darwin.so, 0x0002): Library not loaded: '@rpath/libffi.7.dylib'\n  Referenced from: '/opt/anaconda3/lib/python3.7/site-packages/_cffi_backend.cpython-37m-darwin.so'\n  Reason: tried: '/opt/anaconda3/lib/libffi.7.dylib' (no such file), '/opt/anaconda3/lib/libffi.7.dylib' (no such file), '/opt/anaconda3/lib/python3.7/site-packages/../../libffi.7.dylib' (no such file), '/opt/anaconda3/lib/libffi.7.dylib' (no such file), '/opt/anaconda3/lib/libffi.7.dylib' (no such file), '/opt/anaconda3/lib/python3.7/site-packages/../../libffi.7.dylib' (no such file), '/opt/concourse/worker/volumes/live/d698b2ce-b4b9-4fb4-6268-e633fba1b324/volume/python_1565725718142/_h_env_placehold_placehold_placehold_placehold_placehold_placehold_placehold_placehold_placehold_placehold_placehold_placehold_placehold_placehold_placehol/lib/libffi.7.dylib' (no such file), '/opt/concourse/worker/volumes/live/d698b2ce-b4b9-4fb4-6268-e633fba1b324/volume/python_1565725718142/_h_env_placehold_placehold_placehold_placehold_placehold_placehold_placehold_placehold_placehold_placehold_placehold_placehold_placehold_placehold_placehol/lib/libffi.7.dylib' (no such file), '/opt/anaconda3/bin/../lib/libffi.7.dylib' (no such file), '/opt/concourse/worker/volumes/live/d698b2ce-b4b9-4fb4-6268-e633fba1b324/volume/python_1565725718142/_h_env_placehold_placehold_placehold_placehold_placehold_placehold_placehold_placehold_placehold_placehold_placehold_placehold_placehold_placehold_placehol/lib/libffi.7.dylib' (no such file), '/opt/concourse/worker/volumes/live/d698b2ce-b4b9-4fb4-6268-e633fba1b324/volume/python_1565725718142/_h_env_placehold_placehold_placehold_placehold_placehold_placehold_placehold_placehold_placehold_placehold_placehold_placehold_placehold_placehold_placehol/lib/libffi.7.dylib' (no such file), '/opt/anaconda3/bin/../lib/libffi.7.dylib' (no such file), '/usr/local/lib/libffi.7.dylib' (no such file), '/usr/lib/libffi.7.dylib' (no such file)",
     "output_type": "error",
     "traceback": [
      "\u001b[0;31m---------------------------------------------------------------------------\u001b[0m",
      "\u001b[0;31mImportError\u001b[0m                               Traceback (most recent call last)",
      "\u001b[0;32m/opt/anaconda3/lib/python3.7/site-packages/rpy2/rinterface_lib/openrlib.py\u001b[0m in \u001b[0;36m<module>\u001b[0;34m\u001b[0m\n\u001b[1;32m     13\u001b[0m     \u001b[0;32mtry\u001b[0m\u001b[0;34m:\u001b[0m\u001b[0;34m\u001b[0m\u001b[0;34m\u001b[0m\u001b[0m\n\u001b[0;32m---> 14\u001b[0;31m         \u001b[0;32mimport\u001b[0m \u001b[0m_rinterface_cffi_api\u001b[0m \u001b[0;32mas\u001b[0m \u001b[0m_rinterface_cffi\u001b[0m\u001b[0;34m\u001b[0m\u001b[0;34m\u001b[0m\u001b[0m\n\u001b[0m\u001b[1;32m     15\u001b[0m     \u001b[0;32mexcept\u001b[0m \u001b[0mImportError\u001b[0m\u001b[0;34m:\u001b[0m\u001b[0;34m\u001b[0m\u001b[0;34m\u001b[0m\u001b[0m\n",
      "\u001b[0;31mImportError\u001b[0m: dlopen(/opt/anaconda3/lib/python3.7/site-packages/_rinterface_cffi_api.abi3.so, 0x0002): Library not loaded: '/usr/local/opt/pcre2/lib/libpcre2-8.0.dylib'\n  Referenced from: '/opt/anaconda3/lib/python3.7/site-packages/_rinterface_cffi_api.abi3.so'\n  Reason: tried: '/usr/local/opt/pcre2/lib/libpcre2-8.0.dylib' (no such file), '/usr/local/lib/libpcre2-8.0.dylib' (no such file), '/usr/lib/libpcre2-8.0.dylib' (no such file)",
      "\nDuring handling of the above exception, another exception occurred:\n",
      "\u001b[0;31mImportError\u001b[0m                               Traceback (most recent call last)",
      "\u001b[0;32m/var/folders/0q/x4j93sjs6mx6sl32x798tmt8001p75/T/ipykernel_63257/3842044079.py\u001b[0m in \u001b[0;36m<module>\u001b[0;34m\u001b[0m\n\u001b[0;32m----> 1\u001b[0;31m \u001b[0;32mimport\u001b[0m \u001b[0mrpy2\u001b[0m\u001b[0;34m.\u001b[0m\u001b[0mrobjects\u001b[0m \u001b[0;32mas\u001b[0m \u001b[0mrobjects\u001b[0m\u001b[0;34m\u001b[0m\u001b[0;34m\u001b[0m\u001b[0m\n\u001b[0m\u001b[1;32m      2\u001b[0m \u001b[0;32mfrom\u001b[0m \u001b[0mrpy2\u001b[0m\u001b[0;34m.\u001b[0m\u001b[0mrobjects\u001b[0m \u001b[0;32mimport\u001b[0m \u001b[0mpandas2ri\u001b[0m\u001b[0;34m\u001b[0m\u001b[0;34m\u001b[0m\u001b[0m\n\u001b[1;32m      3\u001b[0m \u001b[0mpandas2ri\u001b[0m\u001b[0;34m.\u001b[0m\u001b[0mactivate\u001b[0m\u001b[0;34m(\u001b[0m\u001b[0;34m)\u001b[0m\u001b[0;34m\u001b[0m\u001b[0;34m\u001b[0m\u001b[0m\n\u001b[1;32m      4\u001b[0m \u001b[0;34m\u001b[0m\u001b[0m\n",
      "\u001b[0;32m/opt/anaconda3/lib/python3.7/site-packages/rpy2/robjects/__init__.py\u001b[0m in \u001b[0;36m<module>\u001b[0;34m\u001b[0m\n\u001b[1;32m     14\u001b[0m \u001b[0;32mfrom\u001b[0m \u001b[0mfunctools\u001b[0m \u001b[0;32mimport\u001b[0m \u001b[0mpartial\u001b[0m\u001b[0;34m\u001b[0m\u001b[0;34m\u001b[0m\u001b[0m\n\u001b[1;32m     15\u001b[0m \u001b[0;32mimport\u001b[0m \u001b[0mtypes\u001b[0m\u001b[0;34m\u001b[0m\u001b[0;34m\u001b[0m\u001b[0m\n\u001b[0;32m---> 16\u001b[0;31m \u001b[0;32mimport\u001b[0m \u001b[0mrpy2\u001b[0m\u001b[0;34m.\u001b[0m\u001b[0mrinterface\u001b[0m \u001b[0;32mas\u001b[0m \u001b[0mrinterface\u001b[0m\u001b[0;34m\u001b[0m\u001b[0;34m\u001b[0m\u001b[0m\n\u001b[0m\u001b[1;32m     17\u001b[0m \u001b[0;32mimport\u001b[0m \u001b[0mrpy2\u001b[0m\u001b[0;34m.\u001b[0m\u001b[0mrlike\u001b[0m\u001b[0;34m.\u001b[0m\u001b[0mcontainer\u001b[0m \u001b[0;32mas\u001b[0m \u001b[0mrlc\u001b[0m\u001b[0;34m\u001b[0m\u001b[0;34m\u001b[0m\u001b[0m\n\u001b[1;32m     18\u001b[0m \u001b[0;34m\u001b[0m\u001b[0m\n",
      "\u001b[0;32m/opt/anaconda3/lib/python3.7/site-packages/rpy2/rinterface.py\u001b[0m in \u001b[0;36m<module>\u001b[0;34m\u001b[0m\n\u001b[1;32m     10\u001b[0m \u001b[0;32mimport\u001b[0m \u001b[0mwarnings\u001b[0m\u001b[0;34m\u001b[0m\u001b[0;34m\u001b[0m\u001b[0m\n\u001b[1;32m     11\u001b[0m \u001b[0;32mfrom\u001b[0m \u001b[0mtyping\u001b[0m \u001b[0;32mimport\u001b[0m \u001b[0mUnion\u001b[0m\u001b[0;34m\u001b[0m\u001b[0;34m\u001b[0m\u001b[0m\n\u001b[0;32m---> 12\u001b[0;31m \u001b[0;32mfrom\u001b[0m \u001b[0mrpy2\u001b[0m\u001b[0;34m.\u001b[0m\u001b[0mrinterface_lib\u001b[0m \u001b[0;32mimport\u001b[0m \u001b[0mopenrlib\u001b[0m\u001b[0;34m\u001b[0m\u001b[0;34m\u001b[0m\u001b[0m\n\u001b[0m\u001b[1;32m     13\u001b[0m \u001b[0;32mimport\u001b[0m \u001b[0mrpy2\u001b[0m\u001b[0;34m.\u001b[0m\u001b[0mrinterface_lib\u001b[0m\u001b[0;34m.\u001b[0m\u001b[0m_rinterface_capi\u001b[0m \u001b[0;32mas\u001b[0m \u001b[0m_rinterface\u001b[0m\u001b[0;34m\u001b[0m\u001b[0;34m\u001b[0m\u001b[0m\n\u001b[1;32m     14\u001b[0m \u001b[0;32mimport\u001b[0m \u001b[0mrpy2\u001b[0m\u001b[0;34m.\u001b[0m\u001b[0mrinterface_lib\u001b[0m\u001b[0;34m.\u001b[0m\u001b[0membedded\u001b[0m \u001b[0;32mas\u001b[0m \u001b[0membedded\u001b[0m\u001b[0;34m\u001b[0m\u001b[0;34m\u001b[0m\u001b[0m\n",
      "\u001b[0;32m/opt/anaconda3/lib/python3.7/site-packages/rpy2/rinterface_lib/openrlib.py\u001b[0m in \u001b[0;36m<module>\u001b[0;34m\u001b[0m\n\u001b[1;32m     14\u001b[0m         \u001b[0;32mimport\u001b[0m \u001b[0m_rinterface_cffi_api\u001b[0m \u001b[0;32mas\u001b[0m \u001b[0m_rinterface_cffi\u001b[0m\u001b[0;34m\u001b[0m\u001b[0;34m\u001b[0m\u001b[0m\n\u001b[1;32m     15\u001b[0m     \u001b[0;32mexcept\u001b[0m \u001b[0mImportError\u001b[0m\u001b[0;34m:\u001b[0m\u001b[0;34m\u001b[0m\u001b[0;34m\u001b[0m\u001b[0m\n\u001b[0;32m---> 16\u001b[0;31m         \u001b[0;32mimport\u001b[0m \u001b[0m_rinterface_cffi_abi\u001b[0m \u001b[0;32mas\u001b[0m \u001b[0m_rinterface_cffi\u001b[0m\u001b[0;34m\u001b[0m\u001b[0;34m\u001b[0m\u001b[0m\n\u001b[0m\u001b[1;32m     17\u001b[0m \u001b[0;34m\u001b[0m\u001b[0m\n\u001b[1;32m     18\u001b[0m \u001b[0mffi\u001b[0m \u001b[0;34m=\u001b[0m \u001b[0m_rinterface_cffi\u001b[0m\u001b[0;34m.\u001b[0m\u001b[0mffi\u001b[0m\u001b[0;34m\u001b[0m\u001b[0;34m\u001b[0m\u001b[0m\n",
      "\u001b[0;32m/opt/anaconda3/lib/python3.7/site-packages/_rinterface_cffi_abi.py\u001b[0m in \u001b[0;36m<module>\u001b[0;34m\u001b[0m\n\u001b[1;32m      1\u001b[0m \u001b[0;31m# auto-generated file\u001b[0m\u001b[0;34m\u001b[0m\u001b[0;34m\u001b[0m\u001b[0;34m\u001b[0m\u001b[0m\n\u001b[0;32m----> 2\u001b[0;31m \u001b[0;32mimport\u001b[0m \u001b[0m_cffi_backend\u001b[0m\u001b[0;34m\u001b[0m\u001b[0;34m\u001b[0m\u001b[0m\n\u001b[0m\u001b[1;32m      3\u001b[0m \u001b[0;34m\u001b[0m\u001b[0m\n\u001b[1;32m      4\u001b[0m ffi = _cffi_backend.FFI('_rinterface_cffi_abi',\n\u001b[1;32m      5\u001b[0m     \u001b[0m_version\u001b[0m \u001b[0;34m=\u001b[0m \u001b[0;36m0x2601\u001b[0m\u001b[0;34m,\u001b[0m\u001b[0;34m\u001b[0m\u001b[0;34m\u001b[0m\u001b[0m\n",
      "\u001b[0;31mImportError\u001b[0m: dlopen(/opt/anaconda3/lib/python3.7/site-packages/_cffi_backend.cpython-37m-darwin.so, 0x0002): Library not loaded: '@rpath/libffi.7.dylib'\n  Referenced from: '/opt/anaconda3/lib/python3.7/site-packages/_cffi_backend.cpython-37m-darwin.so'\n  Reason: tried: '/opt/anaconda3/lib/libffi.7.dylib' (no such file), '/opt/anaconda3/lib/libffi.7.dylib' (no such file), '/opt/anaconda3/lib/python3.7/site-packages/../../libffi.7.dylib' (no such file), '/opt/anaconda3/lib/libffi.7.dylib' (no such file), '/opt/anaconda3/lib/libffi.7.dylib' (no such file), '/opt/anaconda3/lib/python3.7/site-packages/../../libffi.7.dylib' (no such file), '/opt/concourse/worker/volumes/live/d698b2ce-b4b9-4fb4-6268-e633fba1b324/volume/python_1565725718142/_h_env_placehold_placehold_placehold_placehold_placehold_placehold_placehold_placehold_placehold_placehold_placehold_placehold_placehold_placehold_placehol/lib/libffi.7.dylib' (no such file), '/opt/concourse/worker/volumes/live/d698b2ce-b4b9-4fb4-6268-e633fba1b324/volume/python_1565725718142/_h_env_placehold_placehold_placehold_placehold_placehold_placehold_placehold_placehold_placehold_placehold_placehold_placehold_placehold_placehold_placehol/lib/libffi.7.dylib' (no such file), '/opt/anaconda3/bin/../lib/libffi.7.dylib' (no such file), '/opt/concourse/worker/volumes/live/d698b2ce-b4b9-4fb4-6268-e633fba1b324/volume/python_1565725718142/_h_env_placehold_placehold_placehold_placehold_placehold_placehold_placehold_placehold_placehold_placehold_placehold_placehold_placehold_placehold_placehol/lib/libffi.7.dylib' (no such file), '/opt/concourse/worker/volumes/live/d698b2ce-b4b9-4fb4-6268-e633fba1b324/volume/python_1565725718142/_h_env_placehold_placehold_placehold_placehold_placehold_placehold_placehold_placehold_placehold_placehold_placehold_placehold_placehold_placehold_placehol/lib/libffi.7.dylib' (no such file), '/opt/anaconda3/bin/../lib/libffi.7.dylib' (no such file), '/usr/local/lib/libffi.7.dylib' (no such file), '/usr/lib/libffi.7.dylib' (no such file)"
     ]
    }
   ],
   "source": [
    "import rpy2.robjects as robjects\n",
    "from rpy2.robjects import pandas2ri\n",
    "pandas2ri.activate()\n",
    "\n"
   ]
  },
  {
   "cell_type": "code",
   "execution_count": 6,
   "id": "4de05b13-520c-4bb6-a341-59a3b3a32bcf",
   "metadata": {},
   "outputs": [
    {
     "ename": "NameError",
     "evalue": "name 'robjects' is not defined",
     "output_type": "error",
     "traceback": [
      "\u001b[0;31m---------------------------------------------------------------------------\u001b[0m",
      "\u001b[0;31mNameError\u001b[0m                                 Traceback (most recent call last)",
      "\u001b[0;32m/var/folders/0q/x4j93sjs6mx6sl32x798tmt8001p75/T/ipykernel_63083/2402106522.py\u001b[0m in \u001b[0;36m<module>\u001b[0;34m\u001b[0m\n\u001b[0;32m----> 1\u001b[0;31m \u001b[0mreadRDS\u001b[0m \u001b[0;34m=\u001b[0m \u001b[0mrobjects\u001b[0m\u001b[0;34m.\u001b[0m\u001b[0mr\u001b[0m\u001b[0;34m[\u001b[0m\u001b[0;34m'readRDS'\u001b[0m\u001b[0;34m]\u001b[0m\u001b[0;34m\u001b[0m\u001b[0;34m\u001b[0m\u001b[0m\n\u001b[0m\u001b[1;32m      2\u001b[0m \u001b[0mdf\u001b[0m \u001b[0;34m=\u001b[0m \u001b[0mreadRDS\u001b[0m\u001b[0;34m(\u001b[0m\u001b[0;34m'Archive/FoF1002005_221018_brightfield/nucleus_87.rds'\u001b[0m\u001b[0;34m)\u001b[0m\u001b[0;34m\u001b[0m\u001b[0;34m\u001b[0m\u001b[0m\n\u001b[1;32m      3\u001b[0m \u001b[0mdf\u001b[0m \u001b[0;34m=\u001b[0m \u001b[0mpandas2ri\u001b[0m\u001b[0;34m.\u001b[0m\u001b[0mri2py\u001b[0m\u001b[0;34m(\u001b[0m\u001b[0mdf\u001b[0m\u001b[0;34m)\u001b[0m\u001b[0;34m\u001b[0m\u001b[0;34m\u001b[0m\u001b[0m\n",
      "\u001b[0;31mNameError\u001b[0m: name 'robjects' is not defined"
     ]
    }
   ],
   "source": [
    "readRDS = robjects.r['readRDS']\n",
    "df = readRDS('Archive/FoF1002005_221018_brightfield/nucleus_87.rds')\n",
    "df = pandas2ri.ri2py(df)"
   ]
  },
  {
   "cell_type": "markdown",
   "id": "3aca29dd-2b03-492a-8fd9-8fdf824fdd95",
   "metadata": {},
   "source": [
    "#### multidimensional color scheme"
   ]
  },
  {
   "cell_type": "code",
   "execution_count": 3,
   "id": "5bd22c00-fedf-4e10-912c-b84a041b3343",
   "metadata": {},
   "outputs": [
    {
     "name": "stdout",
     "output_type": "stream",
     "text": [
      "\u001b[31mERROR: Could not find a version that satisfies the requirement cmap2d (from versions: none)\u001b[0m\u001b[31m\n",
      "\u001b[0m\u001b[31mERROR: No matching distribution found for cmap2d\u001b[0m\u001b[31m\n",
      "\u001b[0m\n",
      "\u001b[1m[\u001b[0m\u001b[34;49mnotice\u001b[0m\u001b[1;39;49m]\u001b[0m\u001b[39;49m A new release of pip available: \u001b[0m\u001b[31;49m22.3\u001b[0m\u001b[39;49m -> \u001b[0m\u001b[32;49m22.3.1\u001b[0m\n",
      "\u001b[1m[\u001b[0m\u001b[34;49mnotice\u001b[0m\u001b[1;39;49m]\u001b[0m\u001b[39;49m To update, run: \u001b[0m\u001b[32;49mpip install --upgrade pip\u001b[0m\n",
      "Note: you may need to restart the kernel to use updated packages.\n"
     ]
    }
   ],
   "source": [
    "pip install cmap2d"
   ]
  },
  {
   "cell_type": "code",
   "execution_count": null,
   "id": "bef2b285-5a0e-48ac-a9b7-dce7d41bc05f",
   "metadata": {},
   "outputs": [],
   "source": [
    "%matplotlib inline\n",
    "%load_ext autoreload\n",
    "% autoreload 2\n",
    "\n",
    "import cmap2d\n",
    "import math\n",
    "import numpy as np"
   ]
  },
  {
   "cell_type": "code",
   "execution_count": 44,
   "id": "e1cbbaae-b69c-4212-8d54-06f63de441c8",
   "metadata": {},
   "outputs": [],
   "source": [
    "num_colour = 5\n",
    "cm = plt.cm.get_cmap('tab20', num_colour)"
   ]
  },
  {
   "cell_type": "code",
   "execution_count": 29,
   "id": "ccd57635-1ed5-4015-ae50-fa11a7259aa2",
   "metadata": {},
   "outputs": [
    {
     "data": {
      "text/plain": [
       "numpy.ndarray"
      ]
     },
     "execution_count": 29,
     "metadata": {},
     "output_type": "execute_result"
    }
   ],
   "source": [
    "type(cm.colors)"
   ]
  },
  {
   "cell_type": "code",
   "execution_count": 30,
   "id": "2cf1202d-7cd7-4da8-bfa7-bb552635117c",
   "metadata": {},
   "outputs": [
    {
     "data": {
      "text/plain": [
       "array([0.12156863, 0.46666667, 0.70588235, 1.        ])"
      ]
     },
     "execution_count": 30,
     "metadata": {},
     "output_type": "execute_result"
    }
   ],
   "source": [
    "cm.colors[0]"
   ]
  },
  {
   "cell_type": "code",
   "execution_count": 39,
   "id": "d3ef00ea-086a-4ec6-9768-3b2f6a4db89b",
   "metadata": {},
   "outputs": [],
   "source": [
    "import matplotlib.pyplot as plt\n",
    "from matplotlib import colors"
   ]
  },
  {
   "cell_type": "code",
   "execution_count": 48,
   "id": "5b2e5c6c-f42d-4759-be75-5026ad1b3657",
   "metadata": {},
   "outputs": [],
   "source": [
    "#cm = plt.cm.get_cmap('tab20', num_colour)\n",
    "colors1 = [colors.to_hex(cm.colors[0]),colors.to_hex(cm.colors[0])]"
   ]
  },
  {
   "cell_type": "code",
   "execution_count": 49,
   "id": "1bc58a1b-99de-482e-8d0f-208940fd9cbe",
   "metadata": {},
   "outputs": [
    {
     "data": {
      "text/plain": [
       "['#1f77b4', '#1f77b4']"
      ]
     },
     "execution_count": 49,
     "metadata": {},
     "output_type": "execute_result"
    }
   ],
   "source": [
    "colors1"
   ]
  },
  {
   "cell_type": "code",
   "execution_count": 35,
   "id": "f0851890-79da-4ba4-9c2e-87a149d45b1f",
   "metadata": {},
   "outputs": [],
   "source": [
    "import pandas as pd\n",
    "import numpy as np\n",
    "import plotly.graph_objs as go\n",
    "import matplotlib.pyplot as plt\n",
    "import matplotlib.colors as cm"
   ]
  },
  {
   "cell_type": "code",
   "execution_count": null,
   "id": "ee530f01-03ef-404d-94ea-d938b8bd300c",
   "metadata": {},
   "outputs": [],
   "source": []
  },
  {
   "cell_type": "code",
   "execution_count": 36,
   "id": "60c48249-1d33-4fab-adb6-8b289553f058",
   "metadata": {},
   "outputs": [],
   "source": [
    "colors = [cm.to_hex(plt.cm.tab20(i)) for i in range(20)]"
   ]
  },
  {
   "cell_type": "code",
   "execution_count": 37,
   "id": "8d6b65f7-465d-495d-9007-4463a74fab8a",
   "metadata": {},
   "outputs": [
    {
     "data": {
      "text/plain": [
       "['#1f77b4',\n",
       " '#aec7e8',\n",
       " '#ff7f0e',\n",
       " '#ffbb78',\n",
       " '#2ca02c',\n",
       " '#98df8a',\n",
       " '#d62728',\n",
       " '#ff9896',\n",
       " '#9467bd',\n",
       " '#c5b0d5',\n",
       " '#8c564b',\n",
       " '#c49c94',\n",
       " '#e377c2',\n",
       " '#f7b6d2',\n",
       " '#7f7f7f',\n",
       " '#c7c7c7',\n",
       " '#bcbd22',\n",
       " '#dbdb8d',\n",
       " '#17becf',\n",
       " '#9edae5']"
      ]
     },
     "execution_count": 37,
     "metadata": {},
     "output_type": "execute_result"
    }
   ],
   "source": [
    "colors"
   ]
  },
  {
   "cell_type": "code",
   "execution_count": 100,
   "id": "093e113e-11fa-4005-8f3d-558aac2b5005",
   "metadata": {},
   "outputs": [],
   "source": [
    "num_colour = 24\n",
    "cm = plt.cm.get_cmap('Set1_r', num_colour)\n",
    "colors1 = [mcolors.to_hex(cm.colors[0]),mcolors.to_hex(cm.colors[1]),mcolors.to_hex(cm.colors[2]),mcolors.to_hex(cm.colors[3]),mcolors.to_hex(cm.colors[4]),mcolors.to_hex(cm.colors[5]),mcolors.to_hex(cm.colors[6]),mcolors.to_hex(cm.colors[7]),mcolors.to_hex(cm.colors[8]),mcolors.to_hex(cm.colors[9]),mcolors.to_hex(cm.colors[10]),mcolors.to_hex(cm.colors[11]),mcolors.to_hex(cm.colors[12]),mcolors.to_hex(cm.colors[13]),mcolors.to_hex(cm.colors[14]),mcolors.to_hex(cm.colors[15]),mcolors.to_hex(cm.colors[16]),mcolors.to_hex(cm.colors[17]),mcolors.to_hex(cm.colors[18]),mcolors.to_hex(cm.colors[19]),mcolors.to_hex(cm.colors[20]),mcolors.to_hex(cm.colors[21]),mcolors.to_hex(cm.colors[22]),mcolors.to_hex(cm.colors[23])]"
   ]
  },
  {
   "cell_type": "code",
   "execution_count": 101,
   "id": "b93cbd08-aaac-4263-9e56-23db1fe98898",
   "metadata": {},
   "outputs": [],
   "source": [
    "import matplotlib.colors as colors \n",
    "\n",
    "from matplotlib import colors as mcolors"
   ]
  },
  {
   "cell_type": "code",
   "execution_count": 102,
   "id": "53424ac7-f98d-4f9f-a3ae-a892fbde4888",
   "metadata": {},
   "outputs": [
    {
     "data": {
      "text/plain": [
       "['#999999',\n",
       " '#999999',\n",
       " '#999999',\n",
       " '#f781bf',\n",
       " '#f781bf',\n",
       " '#f781bf',\n",
       " '#a65628',\n",
       " '#a65628',\n",
       " '#ffff33',\n",
       " '#ffff33',\n",
       " '#ffff33',\n",
       " '#ff7f00',\n",
       " '#ff7f00',\n",
       " '#984ea3',\n",
       " '#984ea3',\n",
       " '#984ea3',\n",
       " '#4daf4a',\n",
       " '#4daf4a',\n",
       " '#377eb8',\n",
       " '#377eb8',\n",
       " '#377eb8',\n",
       " '#e41a1c',\n",
       " '#e41a1c',\n",
       " '#e41a1c']"
      ]
     },
     "execution_count": 102,
     "metadata": {},
     "output_type": "execute_result"
    }
   ],
   "source": [
    "colors1"
   ]
  },
  {
   "cell_type": "code",
   "execution_count": 74,
   "id": "4331458d-d3e2-4a4b-afc9-fc184088f174",
   "metadata": {},
   "outputs": [],
   "source": [
    "from matplotlib.colors import LinearSegmentedColormap"
   ]
  },
  {
   "cell_type": "code",
   "execution_count": 143,
   "id": "d237b561-c5b8-4c84-abe1-f9958db90287",
   "metadata": {},
   "outputs": [
    {
     "data": {
      "image/png": "[encoded data removed]",
      "text/plain": [
       "<Figure size 640x480 with 2 Axes>"
      ]
     },
     "metadata": {},
     "output_type": "display_data"
    }
   ],
   "source": [
    "import numpy as np\n",
    "import matplotlib.pyplot as plt\n",
    "import matplotlib.colors\n",
    "\n",
    "x,y,c = zip(*np.random.rand(30,3)*4-2)\n",
    "\n",
    "norm=plt.Normalize(-3,3)\n",
    "cmapee = matplotlib.colors.LinearSegmentedColormap.from_list(\"\", [\"red\",\"green\",\"blue\",\"violet\"])\n",
    "\n",
    "plt.scatter(x,y,c=c, cmap=cmapee, norm=norm)\n",
    "plt.colorbar()\n",
    "plt.show()"
   ]
  },
  {
   "cell_type": "code",
   "execution_count": 97,
   "id": "0204a764-0c39-431b-ae2f-c88f11826f09",
   "metadata": {},
   "outputs": [
    {
     "data": {
      "text/plain": [
       "(0.0, 0.4133794694348327, 0.17647058823529413, 1.0)"
      ]
     },
     "execution_count": 97,
     "metadata": {},
     "output_type": "execute_result"
    }
   ],
   "source": [
    "cmapee(100)"
   ]
  },
  {
   "cell_type": "code",
   "execution_count": 106,
   "id": "ef06ec4e-caef-4c26-adeb-e9642ee913a1",
   "metadata": {},
   "outputs": [
    {
     "data": {
      "text/plain": [
       "(1.3301775158063625,\n",
       " -0.5658301418069147,\n",
       " 0.47907282224370595,\n",
       " 1.2099803293902052,\n",
       " 0.14367006096696056,\n",
       " 0.9451309520797548,\n",
       " 0.574453018095348,\n",
       " -1.1210742476225652,\n",
       " 1.6774724189834607,\n",
       " -1.3626101743919925,\n",
       " 1.8982008267711508,\n",
       " 0.9726024111469571,\n",
       " -1.7343608395050798,\n",
       " 1.2249210007600917,\n",
       " -1.1319969538206252,\n",
       " 1.8625480004196584,\n",
       " -1.128580905270963,\n",
       " 0.953430190192897,\n",
       " -0.007581720709939788,\n",
       " -1.852883459419587,\n",
       " 0.5344354045885966,\n",
       " 0.22405719120631984,\n",
       " 1.7116905995771767,\n",
       " 1.0705897419439334,\n",
       " -1.099273459874961,\n",
       " 1.6162383665317344,\n",
       " -0.6060502564400685,\n",
       " -1.647644030796446,\n",
       " -1.1223954933356022,\n",
       " -0.5304962142086032)"
      ]
     },
     "execution_count": 106,
     "metadata": {},
     "output_type": "execute_result"
    }
   ],
   "source": [
    "y"
   ]
  },
  {
   "cell_type": "code",
   "execution_count": 103,
   "id": "a7e7f771-9883-4dd3-a46b-d163ecd59251",
   "metadata": {},
   "outputs": [],
   "source": [
    "colours_58 = [\"mediumslateblue\",\"mediumpurple\",\"plum\",\"darkblue\",\"mediumblue\",\"blue\",\"royalblue\",\"cornflowerblue\",\"lightsteelblue\",\"lightblue\", \"darkgreen\",\"green\",\"forestgreen\",\"seagreen\",\"mediumseagreen\",\"limegreen\",\"palegreen\",\"darkred\",\"firebrick\",\"red\",\"tomato\",\"coral\",\"lightsalmon\",\"sandybrown\"]\n"
   ]
  },
  {
   "cell_type": "code",
   "execution_count": 112,
   "id": "a9cee563-32e8-45c6-b449-b840be74f5d1",
   "metadata": {},
   "outputs": [
    {
     "data": {
      "image/png": "[encoded data removed]",
      "text/plain": [
       "<Figure size 640x480 with 2 Axes>"
      ]
     },
     "metadata": {},
     "output_type": "display_data"
    }
   ],
   "source": [
    "#x,y,c = zip(*np.random.rand(30,3)*4-2)\n",
    "\n",
    "#norm=plt.Normalize(-3,3)\n",
    "#cmapee = matplotlib.colors.LinearSegmentedColormap.from_list(\"\", [\"red\",\"green\",\"blue\",\"violet\"])\n",
    "x1=x[0:24]\n",
    "y1=y[0:24]\n",
    "plt.scatter(x1,y1, c=colours_58)#, norm=norm)\n",
    "plt.colorbar()\n",
    "plt.show()"
   ]
  },
  {
   "cell_type": "markdown",
   "id": "e4015da9-086c-4ab8-97df-dda628d31e38",
   "metadata": {},
   "source": [
    "#### tSNE plain "
   ]
  },
  {
   "cell_type": "code",
   "execution_count": 245,
   "id": "627a0f2d-6fb0-43c1-b898-72b997dcf8e6",
   "metadata": {},
   "outputs": [],
   "source": [
    "path_data_1 = 'NCI-N87_3D_forMistic/data_final/tSNE_2/metadata/' # FoFX001003_221018_brightfield/FoF7001003_221018_brightfield/' #'Archive/FoF7002005_221018_brightfield/'"
   ]
  },
  {
   "cell_type": "code",
   "execution_count": 246,
   "id": "8d2984ad-9669-4dc8-99b9-a8174d228558",
   "metadata": {},
   "outputs": [],
   "source": [
    "tSNE_colors =  np.squeeze(np.array(pd.read_csv(os.path.join(path_data_1+'Cluster_categories.csv'),header= None)))"
   ]
  },
  {
   "cell_type": "code",
   "execution_count": 247,
   "id": "57009d91-6a18-4517-9e17-7115c8ba6c6f",
   "metadata": {},
   "outputs": [
    {
     "data": {
      "text/plain": [
       "(435,)"
      ]
     },
     "execution_count": 247,
     "metadata": {},
     "output_type": "execute_result"
    }
   ],
   "source": [
    "tSNE_colors.shape"
   ]
  },
  {
   "cell_type": "code",
   "execution_count": 248,
   "id": "c3796ed6-4e69-4df7-9b6c-78fc33b85644",
   "metadata": {},
   "outputs": [],
   "source": [
    "tSNE_coords =  np.array(pd.read_csv(os.path.join(path_data_1+'X_imagetSNE.csv'),header= None))"
   ]
  },
  {
   "cell_type": "code",
   "execution_count": 249,
   "id": "4d700ffa-51fa-4211-9540-c1bdb6bceb92",
   "metadata": {},
   "outputs": [
    {
     "data": {
      "text/plain": [
       "(435, 2)"
      ]
     },
     "execution_count": 249,
     "metadata": {},
     "output_type": "execute_result"
    }
   ],
   "source": [
    "tSNE_coords.shape"
   ]
  },
  {
   "cell_type": "code",
   "execution_count": 250,
   "id": "a792fd0c-5a74-41ab-aef2-307232f89638",
   "metadata": {},
   "outputs": [
    {
     "data": {
      "text/plain": [
       "28"
      ]
     },
     "execution_count": 250,
     "metadata": {},
     "output_type": "execute_result"
    }
   ],
   "source": [
    "np.max(tSNE_colors)"
   ]
  },
  {
   "cell_type": "code",
   "execution_count": 251,
   "id": "8f95ba31-43de-4dae-82d5-5b79a435dba9",
   "metadata": {},
   "outputs": [],
   "source": [
    "colours_58 = [\"black\",\"dimgray\",\"gray\",\"darkgray\",\"silver\",\"mediumslateblue\",\"mediumpurple\",\"plum\",\"darkblue\",\"mediumblue\",\"blue\",\"royalblue\",\"cornflowerblue\",\"lightsteelblue\",\"lightblue\", \"darkgreen\",\"green\",\"forestgreen\",\"seagreen\",\"mediumseagreen\",\"limegreen\",\"palegreen\",\"darkred\",\"firebrick\",\"red\",\"tomato\",\"coral\",\"lightsalmon\",\"sandybrown\"]\n"
   ]
  },
  {
   "cell_type": "code",
   "execution_count": 252,
   "id": "a82fd4bc-20c9-441c-b4de-332e0947bddd",
   "metadata": {},
   "outputs": [
    {
     "data": {
      "text/plain": [
       "29"
      ]
     },
     "execution_count": 252,
     "metadata": {},
     "output_type": "execute_result"
    }
   ],
   "source": [
    "len(colours_58)"
   ]
  },
  {
   "cell_type": "code",
   "execution_count": 244,
   "id": "702da243-4bd1-425e-a1f5-b90c42022a7d",
   "metadata": {},
   "outputs": [
    {
     "name": "stdout",
     "output_type": "stream",
     "text": [
      "unique [ 1  2  3  4  9 10 13 14 15 16 17 18 19 20 21 22 23 24 25 26 27 28]\n"
     ]
    },
    {
     "data": {
      "text/plain": [
       "Text(0.5, 1.0, 't-SNE')"
      ]
     },
     "execution_count": 244,
     "metadata": {},
     "output_type": "execute_result"
    },
    {
     "data": {
      "image/png": "[encoded data removed]",
      "text/plain": [
       "<Figure size 900x900 with 1 Axes>"
      ]
     },
     "metadata": {},
     "output_type": "display_data"
    }
   ],
   "source": [
    "\n",
    "'''\n",
    "\n",
    "\n",
    "## tSNE 1\n",
    "unique, counts = np.unique(tSNE_colors, return_counts=True)\n",
    "print('unique',str(unique))\n",
    "\n",
    "#t-SNE plots\n",
    "target_ids = range(len(unique))\n",
    "plt.figure(figsize=(6,6),frameon=False,dpi=150)\n",
    "plt.axis('off')\n",
    "#colors = 'r', 'g', 'b', 'c', 'm', 'y', 'k', 'w', 'orange', 'purple'\n",
    "for i,  label in zip(target_ids,  unique):\n",
    "    #print(i)\n",
    "    #print(label)\n",
    "    c=colours_58[label] #cm.colors[i]\n",
    "    #print(c)\n",
    "    plt.scatter(tSNE_coords[ tSNE_colors==label, 0], tSNE_coords[ tSNE_colors==label, 1], color=c,label=label,s=12,linewidths=0,alpha=0.8)\n",
    "plt.legend(fontsize='x-small',loc='upper center')\n",
    "plt.title('t-SNE')\n",
    "'''"
   ]
  },
  {
   "cell_type": "code",
   "execution_count": 263,
   "id": "80a568ba-26c1-482e-a8db-e8e374479d20",
   "metadata": {},
   "outputs": [
    {
     "name": "stdout",
     "output_type": "stream",
     "text": [
      "unique [ 1  2 10 11 12 14 15 16 17 18 19 20 21 22 23 24 25 26 27 28]\n"
     ]
    },
    {
     "data": {
      "text/plain": [
       "Text(0.5, 1.0, 't-SNE')"
      ]
     },
     "execution_count": 263,
     "metadata": {},
     "output_type": "execute_result"
    },
    {
     "data": {
      "image/png": "[encoded data removed]",
      "text/plain": [
       "<Figure size 750x900 with 1 Axes>"
      ]
     },
     "metadata": {},
     "output_type": "display_data"
    }
   ],
   "source": [
    "\n",
    "## tSNE 2\n",
    "unique, counts = np.unique(tSNE_colors, return_counts=True)\n",
    "print('unique',str(unique))\n",
    "\n",
    "#t-SNE plots\n",
    "target_ids = range(len(unique))\n",
    "plt.figure(figsize=(5,6),frameon=False,dpi=150)\n",
    "plt.axis('off')\n",
    "#colors = 'r', 'g', 'b', 'c', 'm', 'y', 'k', 'w', 'orange', 'purple'\n",
    "for i,  label in zip(target_ids,  unique):\n",
    "    #print(i)\n",
    "    #print(label)\n",
    "    c=colours_58[label] #cm.colors[i]\n",
    "    #print(c)\n",
    "    plt.scatter(tSNE_coords[ tSNE_colors==label, 0], tSNE_coords[ tSNE_colors==label, 1], color=c,label=label,s=12,linewidths=0,alpha=0.8)\n",
    "plt.legend(fontsize='x-small',loc='lower left')\n",
    "plt.title('t-SNE')"
   ]
  },
  {
   "cell_type": "code",
   "execution_count": 168,
   "id": "096e80d9-f02d-490b-9fa5-7dbf92d0ab1e",
   "metadata": {},
   "outputs": [
    {
     "data": {
      "text/plain": [
       "array([], shape=(1035, 0), dtype=bool)"
      ]
     },
     "execution_count": 168,
     "metadata": {},
     "output_type": "execute_result"
    }
   ],
   "source": [
    "tSNE_colors==(label).shape"
   ]
  },
  {
   "cell_type": "markdown",
   "id": "54b28058-4ff7-43e4-af94-3ef0ad62c5bc",
   "metadata": {},
   "source": [
    "#### bokeh rendering"
   ]
  },
  {
   "cell_type": "code",
   "execution_count": 270,
   "id": "764a934e-b927-4f90-a923-db8d179630f8",
   "metadata": {},
   "outputs": [],
   "source": [
    "import bokeh\n",
    "path_data_2 = '/figures/' #'NCI-N87_3D_forMistic/data_final/final_plots/'\n",
    "im = os.path.join(path_data_2+'image_tsne_tils_all_262_rot.png')"
   ]
  },
  {
   "cell_type": "code",
   "execution_count": 269,
   "id": "161da00c-003a-4930-b4a0-85ab601b9f9b",
   "metadata": {},
   "outputs": [
    {
     "data": {
      "text/html": [
       "<div class=\"bk-root\">\n",
       "        <a href=\"https://bokeh.org\" target=\"_blank\" class=\"bk-logo bk-logo-small bk-logo-notebook\"></a>\n",
       "        <span id=\"1183\">Loading BokehJS ...</span>\n",
       "    </div>\n"
      ]
     },
     "metadata": {},
     "output_type": "display_data"
    },
    {
     "data": {
      "application/javascript": [
       "(function(root) {\n",
       "  function now() {\n",
       "    return new Date();\n",
       "  }\n",
       "\n",
       "  const force = true;\n",
       "\n",
       "  if (typeof root._bokeh_onload_callbacks === \"undefined\" || force === true) {\n",
       "    root._bokeh_onload_callbacks = [];\n",
       "    root._bokeh_is_loading = undefined;\n",
       "  }\n",
       "\n",
       "const JS_MIME_TYPE = 'application/javascript';\n",
       "  const HTML_MIME_TYPE = 'text/html';\n",
       "  const EXEC_MIME_TYPE = 'application/vnd.bokehjs_exec.v0+json';\n",
       "  const CLASS_NAME = 'output_bokeh rendered_html';\n",
       "\n",
       "  /**\n",
       "   * Render data to the DOM node\n",
       "   */\n",
       "  function render(props, node) {\n",
       "    const script = document.createElement(\"script\");\n",
       "    node.appendChild(script);\n",
       "  }\n",
       "\n",
       "  /**\n",
       "   * Handle when an output is cleared or removed\n",
       "   */\n",
       "  function handleClearOutput(event, handle) {\n",
       "    const cell = handle.cell;\n",
       "\n",
       "    const id = cell.output_area._bokeh_element_id;\n",
       "    const server_id = cell.output_area._bokeh_server_id;\n",
       "    // Clean up Bokeh references\n",
       "    if (id != null && id in Bokeh.index) {\n",
       "      Bokeh.index[id].model.document.clear();\n",
       "      delete Bokeh.index[id];\n",
       "    }\n",
       "\n",
       "    if (server_id !== undefined) {\n",
       "      // Clean up Bokeh references\n",
       "      const cmd_clean = \"from bokeh.io.state import curstate; print(curstate().uuid_to_server['\" + server_id + \"'].get_sessions()[0].document.roots[0]._id)\";\n",
       "      cell.notebook.kernel.execute(cmd_clean, {\n",
       "        iopub: {\n",
       "          output: function(msg) {\n",
       "            const id = msg.content.text.trim();\n",
       "            if (id in Bokeh.index) {\n",
       "              Bokeh.index[id].model.document.clear();\n",
       "              delete Bokeh.index[id];\n",
       "            }\n",
       "          }\n",
       "        }\n",
       "      });\n",
       "      // Destroy server and session\n",
       "      const cmd_destroy = \"import bokeh.io.notebook as ion; ion.destroy_server('\" + server_id + \"')\";\n",
       "      cell.notebook.kernel.execute(cmd_destroy);\n",
       "    }\n",
       "  }\n",
       "\n",
       "  /**\n",
       "   * Handle when a new output is added\n",
       "   */\n",
       "  function handleAddOutput(event, handle) {\n",
       "    const output_area = handle.output_area;\n",
       "    const output = handle.output;\n",
       "\n",
       "    // limit handleAddOutput to display_data with EXEC_MIME_TYPE content only\n",
       "    if ((output.output_type != \"display_data\") || (!Object.prototype.hasOwnProperty.call(output.data, EXEC_MIME_TYPE))) {\n",
       "      return\n",
       "    }\n",
       "\n",
       "    const toinsert = output_area.element.find(\".\" + CLASS_NAME.split(' ')[0]);\n",
       "\n",
       "    if (output.metadata[EXEC_MIME_TYPE][\"id\"] !== undefined) {\n",
       "      toinsert[toinsert.length - 1].firstChild.textContent = output.data[JS_MIME_TYPE];\n",
       "      // store reference to embed id on output_area\n",
       "      output_area._bokeh_element_id = output.metadata[EXEC_MIME_TYPE][\"id\"];\n",
       "    }\n",
       "    if (output.metadata[EXEC_MIME_TYPE][\"server_id\"] !== undefined) {\n",
       "      const bk_div = document.createElement(\"div\");\n",
       "      bk_div.innerHTML = output.data[HTML_MIME_TYPE];\n",
       "      const script_attrs = bk_div.children[0].attributes;\n",
       "      for (let i = 0; i < script_attrs.length; i++) {\n",
       "        toinsert[toinsert.length - 1].firstChild.setAttribute(script_attrs[i].name, script_attrs[i].value);\n",
       "        toinsert[toinsert.length - 1].firstChild.textContent = bk_div.children[0].textContent\n",
       "      }\n",
       "      // store reference to server id on output_area\n",
       "      output_area._bokeh_server_id = output.metadata[EXEC_MIME_TYPE][\"server_id\"];\n",
       "    }\n",
       "  }\n",
       "\n",
       "  function register_renderer(events, OutputArea) {\n",
       "\n",
       "    function append_mime(data, metadata, element) {\n",
       "      // create a DOM node to render to\n",
       "      const toinsert = this.create_output_subarea(\n",
       "        metadata,\n",
       "        CLASS_NAME,\n",
       "        EXEC_MIME_TYPE\n",
       "      );\n",
       "      this.keyboard_manager.register_events(toinsert);\n",
       "      // Render to node\n",
       "      const props = {data: data, metadata: metadata[EXEC_MIME_TYPE]};\n",
       "      render(props, toinsert[toinsert.length - 1]);\n",
       "      element.append(toinsert);\n",
       "      return toinsert\n",
       "    }\n",
       "\n",
       "    /* Handle when an output is cleared or removed */\n",
       "    events.on('clear_output.CodeCell', handleClearOutput);\n",
       "    events.on('delete.Cell', handleClearOutput);\n",
       "\n",
       "    /* Handle when a new output is added */\n",
       "    events.on('output_added.OutputArea', handleAddOutput);\n",
       "\n",
       "    /**\n",
       "     * Register the mime type and append_mime function with output_area\n",
       "     */\n",
       "    OutputArea.prototype.register_mime_type(EXEC_MIME_TYPE, append_mime, {\n",
       "      /* Is output safe? */\n",
       "      safe: true,\n",
       "      /* Index of renderer in `output_area.display_order` */\n",
       "      index: 0\n",
       "    });\n",
       "  }\n",
       "\n",
       "  // register the mime type if in Jupyter Notebook environment and previously unregistered\n",
       "  if (root.Jupyter !== undefined) {\n",
       "    const events = require('base/js/events');\n",
       "    const OutputArea = require('notebook/js/outputarea').OutputArea;\n",
       "\n",
       "    if (OutputArea.prototype.mime_types().indexOf(EXEC_MIME_TYPE) == -1) {\n",
       "      register_renderer(events, OutputArea);\n",
       "    }\n",
       "  }\n",
       "  if (typeof (root._bokeh_timeout) === \"undefined\" || force === true) {\n",
       "    root._bokeh_timeout = Date.now() + 5000;\n",
       "    root._bokeh_failed_load = false;\n",
       "  }\n",
       "\n",
       "  const NB_LOAD_WARNING = {'data': {'text/html':\n",
       "     \"<div style='background-color: #fdd'>\\n\"+\n",
       "     \"<p>\\n\"+\n",
       "     \"BokehJS does not appear to have successfully loaded. If loading BokehJS from CDN, this \\n\"+\n",
       "     \"may be due to a slow or bad network connection. Possible fixes:\\n\"+\n",
       "     \"</p>\\n\"+\n",
       "     \"<ul>\\n\"+\n",
       "     \"<li>re-rerun `output_notebook()` to attempt to load from CDN again, or</li>\\n\"+\n",
       "     \"<li>use INLINE resources instead, as so:</li>\\n\"+\n",
       "     \"</ul>\\n\"+\n",
       "     \"<code>\\n\"+\n",
       "     \"from bokeh.resources import INLINE\\n\"+\n",
       "     \"output_notebook(resources=INLINE)\\n\"+\n",
       "     \"</code>\\n\"+\n",
       "     \"</div>\"}};\n",
       "\n",
       "  function display_loaded() {\n",
       "    const el = document.getElementById(\"1183\");\n",
       "    if (el != null) {\n",
       "      el.textContent = \"BokehJS is loading...\";\n",
       "    }\n",
       "    if (root.Bokeh !== undefined) {\n",
       "      if (el != null) {\n",
       "        el.textContent = \"BokehJS \" + root.Bokeh.version + \" successfully loaded.\";\n",
       "      }\n",
       "    } else if (Date.now() < root._bokeh_timeout) {\n",
       "      setTimeout(display_loaded, 100)\n",
       "    }\n",
       "  }\n",
       "\n",
       "  function run_callbacks() {\n",
       "    try {\n",
       "      root._bokeh_onload_callbacks.forEach(function(callback) {\n",
       "        if (callback != null)\n",
       "          callback();\n",
       "      });\n",
       "    } finally {\n",
       "      delete root._bokeh_onload_callbacks\n",
       "    }\n",
       "    console.debug(\"Bokeh: all callbacks have finished\");\n",
       "  }\n",
       "\n",
       "  function load_libs(css_urls, js_urls, callback) {\n",
       "    if (css_urls == null) css_urls = [];\n",
       "    if (js_urls == null) js_urls = [];\n",
       "\n",
       "    root._bokeh_onload_callbacks.push(callback);\n",
       "    if (root._bokeh_is_loading > 0) {\n",
       "      console.debug(\"Bokeh: BokehJS is being loaded, scheduling callback at\", now());\n",
       "      return null;\n",
       "    }\n",
       "    if (js_urls == null || js_urls.length === 0) {\n",
       "      run_callbacks();\n",
       "      return null;\n",
       "    }\n",
       "    console.debug(\"Bokeh: BokehJS not loaded, scheduling load and callback at\", now());\n",
       "    root._bokeh_is_loading = css_urls.length + js_urls.length;\n",
       "\n",
       "    function on_load() {\n",
       "      root._bokeh_is_loading--;\n",
       "      if (root._bokeh_is_loading === 0) {\n",
       "        console.debug(\"Bokeh: all BokehJS libraries/stylesheets loaded\");\n",
       "        run_callbacks()\n",
       "      }\n",
       "    }\n",
       "\n",
       "    function on_error(url) {\n",
       "      console.error(\"failed to load \" + url);\n",
       "    }\n",
       "\n",
       "    for (let i = 0; i < css_urls.length; i++) {\n",
       "      const url = css_urls[i];\n",
       "      const element = document.createElement(\"link\");\n",
       "      element.onload = on_load;\n",
       "      element.onerror = on_error.bind(null, url);\n",
       "      element.rel = \"stylesheet\";\n",
       "      element.type = \"text/css\";\n",
       "      element.href = url;\n",
       "      console.debug(\"Bokeh: injecting link tag for BokehJS stylesheet: \", url);\n",
       "      document.body.appendChild(element);\n",
       "    }\n",
       "\n",
       "    for (let i = 0; i < js_urls.length; i++) {\n",
       "      const url = js_urls[i];\n",
       "      const element = document.createElement('script');\n",
       "      element.onload = on_load;\n",
       "      element.onerror = on_error.bind(null, url);\n",
       "      element.async = false;\n",
       "      element.src = url;\n",
       "      console.debug(\"Bokeh: injecting script tag for BokehJS library: \", url);\n",
       "      document.head.appendChild(element);\n",
       "    }\n",
       "  };\n",
       "\n",
       "  function inject_raw_css(css) {\n",
       "    const element = document.createElement(\"style\");\n",
       "    element.appendChild(document.createTextNode(css));\n",
       "    document.body.appendChild(element);\n",
       "  }\n",
       "\n",
       "  const js_urls = [\"https://cdn.bokeh.org/bokeh/release/bokeh-2.4.3.min.js\", \"https://cdn.bokeh.org/bokeh/release/bokeh-gl-2.4.3.min.js\", \"https://cdn.bokeh.org/bokeh/release/bokeh-widgets-2.4.3.min.js\", \"https://cdn.bokeh.org/bokeh/release/bokeh-tables-2.4.3.min.js\", \"https://cdn.bokeh.org/bokeh/release/bokeh-mathjax-2.4.3.min.js\"];\n",
       "  const css_urls = [];\n",
       "\n",
       "  const inline_js = [    function(Bokeh) {\n",
       "      Bokeh.set_log_level(\"info\");\n",
       "    },\n",
       "function(Bokeh) {\n",
       "    }\n",
       "  ];\n",
       "\n",
       "  function run_inline_js() {\n",
       "    if (root.Bokeh !== undefined || force === true) {\n",
       "          for (let i = 0; i < inline_js.length; i++) {\n",
       "      inline_js[i].call(root, root.Bokeh);\n",
       "    }\n",
       "if (force === true) {\n",
       "        display_loaded();\n",
       "      }} else if (Date.now() < root._bokeh_timeout) {\n",
       "      setTimeout(run_inline_js, 100);\n",
       "    } else if (!root._bokeh_failed_load) {\n",
       "      console.log(\"Bokeh: BokehJS failed to load within specified timeout.\");\n",
       "      root._bokeh_failed_load = true;\n",
       "    } else if (force !== true) {\n",
       "      const cell = $(document.getElementById(\"1183\")).parents('.cell').data().cell;\n",
       "      cell.output_area.append_execute_result(NB_LOAD_WARNING)\n",
       "    }\n",
       "  }\n",
       "\n",
       "  if (root._bokeh_is_loading === 0) {\n",
       "    console.debug(\"Bokeh: BokehJS loaded, going straight to plotting\");\n",
       "    run_inline_js();\n",
       "  } else {\n",
       "    load_libs(css_urls, js_urls, function() {\n",
       "      console.debug(\"Bokeh: BokehJS plotting callback run at\", now());\n",
       "      run_inline_js();\n",
       "    });\n",
       "  }\n",
       "}(window));"
      ],
      "application/vnd.bokehjs_load.v0+json": "(function(root) {\n  function now() {\n    return new Date();\n  }\n\n  const force = true;\n\n  if (typeof root._bokeh_onload_callbacks === \"undefined\" || force === true) {\n    root._bokeh_onload_callbacks = [];\n    root._bokeh_is_loading = undefined;\n  }\n\n\n  if (typeof (root._bokeh_timeout) === \"undefined\" || force === true) {\n    root._bokeh_timeout = Date.now() + 5000;\n    root._bokeh_failed_load = false;\n  }\n\n  const NB_LOAD_WARNING = {'data': {'text/html':\n     \"<div style='background-color: #fdd'>\\n\"+\n     \"<p>\\n\"+\n     \"BokehJS does not appear to have successfully loaded. If loading BokehJS from CDN, this \\n\"+\n     \"may be due to a slow or bad network connection. Possible fixes:\\n\"+\n     \"</p>\\n\"+\n     \"<ul>\\n\"+\n     \"<li>re-rerun `output_notebook()` to attempt to load from CDN again, or</li>\\n\"+\n     \"<li>use INLINE resources instead, as so:</li>\\n\"+\n     \"</ul>\\n\"+\n     \"<code>\\n\"+\n     \"from bokeh.resources import INLINE\\n\"+\n     \"output_notebook(resources=INLINE)\\n\"+\n     \"</code>\\n\"+\n     \"</div>\"}};\n\n  function display_loaded() {\n    const el = document.getElementById(\"1183\");\n    if (el != null) {\n      el.textContent = \"BokehJS is loading...\";\n    }\n    if (root.Bokeh !== undefined) {\n      if (el != null) {\n        el.textContent = \"BokehJS \" + root.Bokeh.version + \" successfully loaded.\";\n      }\n    } else if (Date.now() < root._bokeh_timeout) {\n      setTimeout(display_loaded, 100)\n    }\n  }\n\n  function run_callbacks() {\n    try {\n      root._bokeh_onload_callbacks.forEach(function(callback) {\n        if (callback != null)\n          callback();\n      });\n    } finally {\n      delete root._bokeh_onload_callbacks\n    }\n    console.debug(\"Bokeh: all callbacks have finished\");\n  }\n\n  function load_libs(css_urls, js_urls, callback) {\n    if (css_urls == null) css_urls = [];\n    if (js_urls == null) js_urls = [];\n\n    root._bokeh_onload_callbacks.push(callback);\n    if (root._bokeh_is_loading > 0) {\n      console.debug(\"Bokeh: BokehJS is being loaded, scheduling callback at\", now());\n      return null;\n    }\n    if (js_urls == null || js_urls.length === 0) {\n      run_callbacks();\n      return null;\n    }\n    console.debug(\"Bokeh: BokehJS not loaded, scheduling load and callback at\", now());\n    root._bokeh_is_loading = css_urls.length + js_urls.length;\n\n    function on_load() {\n      root._bokeh_is_loading--;\n      if (root._bokeh_is_loading === 0) {\n        console.debug(\"Bokeh: all BokehJS libraries/stylesheets loaded\");\n        run_callbacks()\n      }\n    }\n\n    function on_error(url) {\n      console.error(\"failed to load \" + url);\n    }\n\n    for (let i = 0; i < css_urls.length; i++) {\n      const url = css_urls[i];\n      const element = document.createElement(\"link\");\n      element.onload = on_load;\n      element.onerror = on_error.bind(null, url);\n      element.rel = \"stylesheet\";\n      element.type = \"text/css\";\n      element.href = url;\n      console.debug(\"Bokeh: injecting link tag for BokehJS stylesheet: \", url);\n      document.body.appendChild(element);\n    }\n\n    for (let i = 0; i < js_urls.length; i++) {\n      const url = js_urls[i];\n      const element = document.createElement('script');\n      element.onload = on_load;\n      element.onerror = on_error.bind(null, url);\n      element.async = false;\n      element.src = url;\n      console.debug(\"Bokeh: injecting script tag for BokehJS library: \", url);\n      document.head.appendChild(element);\n    }\n  };\n\n  function inject_raw_css(css) {\n    const element = document.createElement(\"style\");\n    element.appendChild(document.createTextNode(css));\n    document.body.appendChild(element);\n  }\n\n  const js_urls = [\"https://cdn.bokeh.org/bokeh/release/bokeh-2.4.3.min.js\", \"https://cdn.bokeh.org/bokeh/release/bokeh-gl-2.4.3.min.js\", \"https://cdn.bokeh.org/bokeh/release/bokeh-widgets-2.4.3.min.js\", \"https://cdn.bokeh.org/bokeh/release/bokeh-tables-2.4.3.min.js\", \"https://cdn.bokeh.org/bokeh/release/bokeh-mathjax-2.4.3.min.js\"];\n  const css_urls = [];\n\n  const inline_js = [    function(Bokeh) {\n      Bokeh.set_log_level(\"info\");\n    },\nfunction(Bokeh) {\n    }\n  ];\n\n  function run_inline_js() {\n    if (root.Bokeh !== undefined || force === true) {\n          for (let i = 0; i < inline_js.length; i++) {\n      inline_js[i].call(root, root.Bokeh);\n    }\nif (force === true) {\n        display_loaded();\n      }} else if (Date.now() < root._bokeh_timeout) {\n      setTimeout(run_inline_js, 100);\n    } else if (!root._bokeh_failed_load) {\n      console.log(\"Bokeh: BokehJS failed to load within specified timeout.\");\n      root._bokeh_failed_load = true;\n    } else if (force !== true) {\n      const cell = $(document.getElementById(\"1183\")).parents('.cell').data().cell;\n      cell.output_area.append_execute_result(NB_LOAD_WARNING)\n    }\n  }\n\n  if (root._bokeh_is_loading === 0) {\n    console.debug(\"Bokeh: BokehJS loaded, going straight to plotting\");\n    run_inline_js();\n  } else {\n    load_libs(css_urls, js_urls, function() {\n      console.debug(\"Bokeh: BokehJS plotting callback run at\", now());\n      run_inline_js();\n    });\n  }\n}(window));"
     },
     "metadata": {},
     "output_type": "display_data"
    },
    {
     "data": {
      "text/html": [
       "\n",
       "  <div class=\"bk-root\" id=\"fb451397-47b5-4710-91f9-8890360d7722\" data-root-id=\"1184\"></div>\n"
      ]
     },
     "metadata": {},
     "output_type": "display_data"
    },
    {
     "data": {
      "application/javascript": [
       "(function(root) {\n",
       "  function embed_document(root) {\n",
       "  const docs_json = {\"be2a4786-fcc1-44ad-a760-57312044bd4e\":{\"defs\":[],\"roots\":{\"references\":[{\"attributes\":{\"below\":[{\"id\":\"1193\"}],\"center\":[{\"id\":\"1196\"},{\"id\":\"1200\"}],\"left\":[{\"id\":\"1197\"}],\"renderers\":[{\"id\":\"1219\"}],\"title\":{\"id\":\"1221\"},\"toolbar\":{\"id\":\"1208\"},\"x_range\":{\"id\":\"1185\"},\"x_scale\":{\"id\":\"1189\"},\"y_range\":{\"id\":\"1187\"},\"y_scale\":{\"id\":\"1191\"}},\"id\":\"1184\",\"subtype\":\"Figure\",\"type\":\"Plot\"},{\"attributes\":{\"coordinates\":null,\"group\":null},\"id\":\"1221\",\"type\":\"Title\"},{\"attributes\":{\"bottom_units\":\"screen\",\"coordinates\":null,\"fill_alpha\":0.5,\"fill_color\":\"lightgrey\",\"group\":null,\"left_units\":\"screen\",\"level\":\"overlay\",\"line_alpha\":1.0,\"line_color\":\"black\",\"line_dash\":[4,4],\"line_width\":2,\"right_units\":\"screen\",\"syncable\":false,\"top_units\":\"screen\"},\"id\":\"1207\",\"type\":\"BoxAnnotation\"},{\"attributes\":{\"tools\":[{\"id\":\"1201\"},{\"id\":\"1202\"},{\"id\":\"1203\"},{\"id\":\"1204\"},{\"id\":\"1205\"},{\"id\":\"1206\"}]},\"id\":\"1208\",\"type\":\"Toolbar\"},{\"attributes\":{},\"id\":\"1227\",\"type\":\"BasicTickFormatter\"},{\"attributes\":{\"h\":{\"value\":0.6},\"url\":{\"field\":\"url\"},\"w\":{\"value\":0.8},\"x\":{\"value\":0},\"y\":{\"value\":1}},\"id\":\"1216\",\"type\":\"ImageURL\"},{\"attributes\":{},\"id\":\"1206\",\"type\":\"HelpTool\"},{\"attributes\":{\"source\":{\"id\":\"1215\"}},\"id\":\"1220\",\"type\":\"CDSView\"},{\"attributes\":{\"data\":{\"url\":[\"NCI-N87_3D_forMistic/data_final/final_plots/image_tsne_tils_all_262_rot.png\"]},\"selected\":{\"id\":\"1230\"},\"selection_policy\":{\"id\":\"1229\"}},\"id\":\"1215\",\"type\":\"ColumnDataSource\"},{\"attributes\":{},\"id\":\"1225\",\"type\":\"AllLabels\"},{\"attributes\":{},\"id\":\"1205\",\"type\":\"ResetTool\"},{\"attributes\":{},\"id\":\"1224\",\"type\":\"BasicTickFormatter\"},{\"attributes\":{\"coordinates\":null,\"formatter\":{\"id\":\"1227\"},\"group\":null,\"major_label_policy\":{\"id\":\"1228\"},\"ticker\":{\"id\":\"1194\"}},\"id\":\"1193\",\"type\":\"LinearAxis\"},{\"attributes\":{},\"id\":\"1228\",\"type\":\"AllLabels\"},{\"attributes\":{},\"id\":\"1204\",\"type\":\"SaveTool\"},{\"attributes\":{\"global_alpha\":{\"value\":0.1},\"h\":{\"value\":0.6},\"url\":{\"field\":\"url\"},\"w\":{\"value\":0.8},\"x\":{\"value\":0},\"y\":{\"value\":1}},\"id\":\"1217\",\"type\":\"ImageURL\"},{\"attributes\":{\"overlay\":{\"id\":\"1207\"}},\"id\":\"1203\",\"type\":\"BoxZoomTool\"},{\"attributes\":{},\"id\":\"1187\",\"type\":\"Range1d\"},{\"attributes\":{\"coordinates\":null,\"formatter\":{\"id\":\"1224\"},\"group\":null,\"major_label_policy\":{\"id\":\"1225\"},\"ticker\":{\"id\":\"1198\"}},\"id\":\"1197\",\"type\":\"LinearAxis\"},{\"attributes\":{\"axis\":{\"id\":\"1193\"},\"coordinates\":null,\"group\":null,\"ticker\":null},\"id\":\"1196\",\"type\":\"Grid\"},{\"attributes\":{\"axis\":{\"id\":\"1197\"},\"coordinates\":null,\"dimension\":1,\"group\":null,\"ticker\":null},\"id\":\"1200\",\"type\":\"Grid\"},{\"attributes\":{},\"id\":\"1189\",\"type\":\"LinearScale\"},{\"attributes\":{},\"id\":\"1202\",\"type\":\"WheelZoomTool\"},{\"attributes\":{\"coordinates\":null,\"data_source\":{\"id\":\"1215\"},\"glyph\":{\"id\":\"1216\"},\"group\":null,\"hover_glyph\":null,\"muted_glyph\":{\"id\":\"1218\"},\"nonselection_glyph\":{\"id\":\"1217\"},\"view\":{\"id\":\"1220\"}},\"id\":\"1219\",\"type\":\"GlyphRenderer\"},{\"attributes\":{},\"id\":\"1185\",\"type\":\"Range1d\"},{\"attributes\":{},\"id\":\"1191\",\"type\":\"LinearScale\"},{\"attributes\":{},\"id\":\"1201\",\"type\":\"PanTool\"},{\"attributes\":{},\"id\":\"1194\",\"type\":\"BasicTicker\"},{\"attributes\":{\"global_alpha\":{\"value\":0.2},\"h\":{\"value\":0.6},\"url\":{\"field\":\"url\"},\"w\":{\"value\":0.8},\"x\":{\"value\":0},\"y\":{\"value\":1}},\"id\":\"1218\",\"type\":\"ImageURL\"},{\"attributes\":{},\"id\":\"1229\",\"type\":\"UnionRenderers\"},{\"attributes\":{},\"id\":\"1198\",\"type\":\"BasicTicker\"},{\"attributes\":{},\"id\":\"1230\",\"type\":\"Selection\"}],\"root_ids\":[\"1184\"]},\"title\":\"Bokeh Application\",\"version\":\"2.4.3\"}};\n",
       "  const render_items = [{\"docid\":\"be2a4786-fcc1-44ad-a760-57312044bd4e\",\"root_ids\":[\"1184\"],\"roots\":{\"1184\":\"fb451397-47b5-4710-91f9-8890360d7722\"}}];\n",
       "  root.Bokeh.embed.embed_items_notebook(docs_json, render_items);\n",
       "  }\n",
       "  if (root.Bokeh !== undefined) {\n",
       "    embed_document(root);\n",
       "  } else {\n",
       "    let attempts = 0;\n",
       "    const timer = setInterval(function(root) {\n",
       "      if (root.Bokeh !== undefined) {\n",
       "        clearInterval(timer);\n",
       "        embed_document(root);\n",
       "      } else {\n",
       "        attempts++;\n",
       "        if (attempts > 100) {\n",
       "          clearInterval(timer);\n",
       "          console.log(\"Bokeh: ERROR: Unable to run BokehJS code because BokehJS library is missing\");\n",
       "        }\n",
       "      }\n",
       "    }, 10, root)\n",
       "  }\n",
       "})(window);"
      ],
      "application/vnd.bokehjs_exec.v0+json": ""
     },
     "metadata": {
      "application/vnd.bokehjs_exec.v0+json": {
       "id": "1184"
      }
     },
     "output_type": "display_data"
    }
   ],
   "source": [
    "from bokeh.plotting import figure, show, output_file, output_notebook\n",
    "\n",
    "#output_file('image.html')\n",
    "output_notebook() #('image.html')\n",
    "\n",
    "p = figure(x_range=(0,1), y_range=(0,1))\n",
    "p.image_url(url=[im], x=0, y=1, w=0.8, h=0.6)\n",
    "## could also leave out keywords\n",
    "# p.image_url(['tree.png'], 0, 1, 0.8, h=0.6)  \n",
    "show(p,)"
   ]
  },
  {
   "cell_type": "code",
   "execution_count": null,
   "id": "c67ee180-5d42-4416-80b2-f8f211dcc380",
   "metadata": {},
   "outputs": [],
   "source": [
    "from bokeh.plotting import figure, curdoc\n",
    "x_range = (-20,-10) # could be anything - e.g.(0,1)\n",
    "y_range = (20,30)\n",
    "p = figure(x_range=x_range, y_range=y_range)\n",
    "#img_path = 'https://docs.bokeh.org/en/latest/_static/images/logo.png'\n",
    "img_path = 'server_folder/static/logo.png'\n",
    "p.image_url(url=[img_path],x=x_range[0],y=y_range[1],w=x_range[1]-x_range[0],h=y_range[1]-y_range[0])\n",
    "doc = curdoc()\n",
    "doc.add_root(p)"
   ]
  }
 ],
 "metadata": {
  "kernelspec": {
   "display_name": "Python 3 (ipykernel)",
   "language": "python",
   "name": "python3"
  },
  "language_info": {
   "codemirror_mode": {
    "name": "ipython",
    "version": 3
   },
   "file_extension": ".py",
   "mimetype": "text/x-python",
   "name": "python",
   "nbconvert_exporter": "python",
   "pygments_lexer": "ipython3",
   "version": "3.7.4"
  }
 },
 "nbformat": 4,
 "nbformat_minor": 5
}
